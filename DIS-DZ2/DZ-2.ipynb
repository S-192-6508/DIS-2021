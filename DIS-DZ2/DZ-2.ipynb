{
 "cells": [
  {
   "cell_type": "markdown",
   "id": "2e3f3cde",
   "metadata": {},
   "source": [
    "<h2>Домашнее задание №1 по курсу \"Проектирование интеллектуальных систем\"</h2>\n",
    "\n",
    "<p><b>Выполнил:</b> Саврасов П.А. группа ИУ5-24М</p>\n",
    "\n",
    "<h3>Задание</h3>\n",
    "<p>Для выполнения домашнего задания требуется обучить нейронную сеть на собственном датасете, созданном в домашнем задании №1</p>"
   ]
  },
  {
   "cell_type": "code",
   "execution_count": 15,
   "id": "cb473a3a",
   "metadata": {},
   "outputs": [],
   "source": [
    "import re\n",
    "import json\n",
    "import pandas as pd\n",
    "import seaborn as sns\n",
    "import matplotlib.pyplot as plt\n",
    "\n",
    "import numpy as np\n",
    "import tensorflow as tf\n",
    "from tensorflow import keras\n",
    "from tensorflow.keras import layers\n",
    "from sklearn.model_selection import train_test_split\n",
    "from sklearn.feature_extraction.text import TfidfVectorizer, CountVectorizer\n",
    "\n",
    "from sklearn.datasets import fetch_20newsgroups"
   ]
  },
  {
   "cell_type": "markdown",
   "id": "3336c6e3",
   "metadata": {},
   "source": [
    "В даненом домашнем задании сравним несколько моделей (MLP, RNN) в задаче классификации текста, так же сравним несколько векторизаторов текста.<br>\n",
    "Для начала загрузим датасет из домашнегно задания 1"
   ]
  },
  {
   "cell_type": "code",
   "execution_count": 6,
   "id": "557a5f99",
   "metadata": {},
   "outputs": [],
   "source": [
    "with open('messages.json', 'r') as file: \n",
    "    data = json.loads(file.read())\n",
    "\n",
    "data = pd.json_normalize(data['messages'])"
   ]
  },
  {
   "cell_type": "markdown",
   "id": "74834904",
   "metadata": {},
   "source": [
    "Для векторизации текстов применим 2 векторизатора: TfidfVectorizer, CountVectorizer"
   ]
  },
  {
   "cell_type": "code",
   "execution_count": 41,
   "id": "ce19c75b",
   "metadata": {},
   "outputs": [],
   "source": [
    "xData = []\n",
    "inputDims = []\n",
    "\n",
    "\n",
    "vectorizer = TfidfVectorizer()\n",
    "xData.append(vectorizer.fit_transform(data['content']).toarray())\n",
    "inputDims.append(len(vectorizer.get_feature_names()))\n",
    "\n",
    "vectorizer = CountVectorizer()\n",
    "xData.append(vectorizer.fit_transform(data['content']).toarray())\n",
    "inputDims.append(len(vectorizer.get_feature_names()))\n"
   ]
  },
  {
   "cell_type": "code",
   "execution_count": 46,
   "id": "26c9a92e",
   "metadata": {},
   "outputs": [],
   "source": [
    "models = []\n",
    "for inpudDim in inputDims:\n",
    "    \n",
    "    model = tf.keras.Sequential(\n",
    "        [\n",
    "            layers.InputLayer(input_shape=(inputDim)),\n",
    "            layers.Dense(300, activation='relu'),\n",
    "            layers.Dense(200, activation='relu'),\n",
    "            layers.Dense(100, activation='relu'),\n",
    "            layers.Dense(2, activation='relu')\n",
    "        ]\n",
    "    )\n",
    "    models.append(model)\n",
    "    \n",
    "    "
   ]
  },
  {
   "cell_type": "code",
   "execution_count": 47,
   "id": "847832c0",
   "metadata": {},
   "outputs": [],
   "source": [
    "for model in models:\n",
    "    model.compile (\n",
    "        loss=keras.losses.SparseCategoricalCrossentropy(from_logits=True),\n",
    "        optimizer=keras.optimizers.Adam(),\n",
    "        metrics=['accuracy']\n",
    "    )\n"
   ]
  },
  {
   "cell_type": "code",
   "execution_count": 48,
   "id": "cbacf838",
   "metadata": {},
   "outputs": [
    {
     "name": "stdout",
     "output_type": "stream",
     "text": [
      "Epoch 1/10\n",
      "WARNING:tensorflow:Model was constructed with shape (None, 4499, 4499) for input KerasTensor(type_spec=TensorSpec(shape=(None, 4499, 4499), dtype=tf.float32, name='input_27'), name='input_27', description=\"created by layer 'input_27'\"), but it was called on an input with incompatible shape (None, 4499).\n",
      "WARNING:tensorflow:Model was constructed with shape (None, 4499, 4499) for input KerasTensor(type_spec=TensorSpec(shape=(None, 4499, 4499), dtype=tf.float32, name='input_27'), name='input_27', description=\"created by layer 'input_27'\"), but it was called on an input with incompatible shape (None, 4499).\n",
      "276/276 - 2s - loss: 0.3222 - accuracy: 0.8916\n",
      "Epoch 2/10\n",
      "276/276 - 1s - loss: 0.2305 - accuracy: 0.8924\n",
      "Epoch 3/10\n",
      "276/276 - 1s - loss: 0.1901 - accuracy: 0.8924\n",
      "Epoch 4/10\n",
      "276/276 - 1s - loss: 0.1746 - accuracy: 0.8924\n",
      "Epoch 5/10\n",
      "276/276 - 1s - loss: 0.1631 - accuracy: 0.8923\n",
      "Epoch 6/10\n",
      "276/276 - 1s - loss: 0.1598 - accuracy: 0.8924\n",
      "Epoch 7/10\n",
      "276/276 - 1s - loss: 0.1569 - accuracy: 0.8924\n",
      "Epoch 8/10\n",
      "276/276 - 1s - loss: 0.1568 - accuracy: 0.8924\n",
      "Epoch 9/10\n",
      "276/276 - 1s - loss: 0.1538 - accuracy: 0.8924\n",
      "Epoch 10/10\n",
      "276/276 - 1s - loss: 0.1518 - accuracy: 0.8924\n",
      "WARNING:tensorflow:Model was constructed with shape (None, 4499, 4499) for input KerasTensor(type_spec=TensorSpec(shape=(None, 4499, 4499), dtype=tf.float32, name='input_27'), name='input_27', description=\"created by layer 'input_27'\"), but it was called on an input with incompatible shape (None, 4499).\n",
      "119/119 - 0s - loss: 0.3606 - accuracy: 0.9018\n",
      "Epoch 1/10\n",
      "WARNING:tensorflow:Model was constructed with shape (None, 4499, 4499) for input KerasTensor(type_spec=TensorSpec(shape=(None, 4499, 4499), dtype=tf.float32, name='input_28'), name='input_28', description=\"created by layer 'input_28'\"), but it was called on an input with incompatible shape (None, 4499).\n",
      "WARNING:tensorflow:Model was constructed with shape (None, 4499, 4499) for input KerasTensor(type_spec=TensorSpec(shape=(None, 4499, 4499), dtype=tf.float32, name='input_28'), name='input_28', description=\"created by layer 'input_28'\"), but it was called on an input with incompatible shape (None, 4499).\n",
      "276/276 - 2s - loss: 0.1745 - accuracy: 0.9589\n",
      "Epoch 2/10\n",
      "276/276 - 2s - loss: 0.0821 - accuracy: 0.9766\n",
      "Epoch 3/10\n",
      "276/276 - 2s - loss: 0.0605 - accuracy: 0.9779\n",
      "Epoch 4/10\n",
      "276/276 - 2s - loss: 0.0459 - accuracy: 0.9782\n",
      "Epoch 5/10\n",
      "276/276 - 2s - loss: 0.0422 - accuracy: 0.9798\n",
      "Epoch 6/10\n",
      "276/276 - 2s - loss: 0.0378 - accuracy: 0.9799\n",
      "Epoch 7/10\n",
      "276/276 - 2s - loss: 0.0377 - accuracy: 0.9804\n",
      "Epoch 8/10\n",
      "276/276 - 2s - loss: 0.0371 - accuracy: 0.9822\n",
      "Epoch 9/10\n",
      "276/276 - 2s - loss: 0.0351 - accuracy: 0.9865\n",
      "Epoch 10/10\n",
      "276/276 - 2s - loss: 0.0315 - accuracy: 0.9866\n",
      "WARNING:tensorflow:Model was constructed with shape (None, 4499, 4499) for input KerasTensor(type_spec=TensorSpec(shape=(None, 4499, 4499), dtype=tf.float32, name='input_28'), name='input_28', description=\"created by layer 'input_28'\"), but it was called on an input with incompatible shape (None, 4499).\n",
      "119/119 - 0s - loss: 0.1349 - accuracy: 0.9741\n"
     ]
    }
   ],
   "source": [
    "xTrain = []\n",
    "xTest = []\n",
    "yTrain = []\n",
    "yTest = []\n",
    "\n",
    "\n",
    "for x in xData:\n",
    "    x_train, x_test, y_train, y_test = train_test_split(x, data['target'], test_size=0.3, random_state=42)\n",
    "    xTrain.append(x_train)\n",
    "    xTest.append(x_test)\n",
    "    yTrain.append(y_train)\n",
    "    yTest.append(y_test)\n",
    "\n",
    "historys = [] \n",
    "    \n",
    "for i in range(2):\n",
    "    historys.append(models[i].fit(xTrain[i], yTrain[i],epochs=10, verbose=2))\n",
    "    models[i].evaluate(xTest[i], yTest[i], verbose=2)\n",
    "        "
   ]
  },
  {
   "cell_type": "code",
   "execution_count": 63,
   "id": "9689a8b2",
   "metadata": {},
   "outputs": [
    {
     "data": {
      "image/png": "[encoded data removed]",
      "text/plain": [
       "<Figure size 720x720 with 2 Axes>"
      ]
     },
     "metadata": {
      "needs_background": "light"
     },
     "output_type": "display_data"
    }
   ],
   "source": [
    "fig, ax = plt.subplots(figsize=(10,10))\n",
    "plt.subplot(2, 1, 1)\n",
    "plt.plot(historys[0].epoch, historys[0].history['accuracy'], '-o')\n",
    "plt.plot(historys[1].epoch, historys[1].history['accuracy'], '-o')\n",
    "\n",
    "plt.subplot(2, 1, 2)\n",
    "plt.plot(historys[0].epoch, historys[0].history['loss'], '-o')\n",
    "plt.plot(historys[1].epoch, historys[1].history['loss'], '-o')\n",
    "\n",
    "plt.show()"
   ]
  },
  {
   "cell_type": "code",
   "execution_count": null,
   "id": "0bca7e79",
   "metadata": {},
   "outputs": [],
   "source": []
  }
 ],
 "metadata": {
  "kernelspec": {
   "display_name": "Python 3",
   "language": "python",
   "name": "python3"
  },
  "language_info": {
   "codemirror_mode": {
    "name": "ipython",
    "version": 3
   },
   "file_extension": ".py",
   "mimetype": "text/x-python",
   "name": "python",
   "nbconvert_exporter": "python",
   "pygments_lexer": "ipython3",
   "version": "3.9.5"
  }
 },
 "nbformat": 4,
 "nbformat_minor": 5
}
