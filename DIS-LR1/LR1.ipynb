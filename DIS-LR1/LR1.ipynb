{
 "cells": [
  {
   "cell_type": "markdown",
   "id": "f8041fc3",
   "metadata": {},
   "source": [
    "<h2>Лабораторная работа №1 по курсу \"Проектирование интеллектуальных систем\"</h2>\n",
    "\n",
    "<p><b>Выполнил:</b> Саврасов П.А. группа ИУ5-24М</p>\n",
    "\n",
    "<h3>Задание</h3>\n",
    "<p>Для выполнения лабораторной работы требуется установить Python3, virtualenv, jupyter notebook и\n",
    "tensorflow. Создать новый notebook и создать два вычислительных графа.</p>"
   ]
  },
  {
   "cell_type": "code",
   "execution_count": 1,
   "id": "a2574079",
   "metadata": {},
   "outputs": [
    {
     "name": "stdout",
     "output_type": "stream",
     "text": [
      "INFO:tensorflow:Enabling eager execution\n",
      "INFO:tensorflow:Enabling v2 tensorshape\n",
      "INFO:tensorflow:Enabling resource variables\n",
      "INFO:tensorflow:Enabling tensor equality\n",
      "INFO:tensorflow:Enabling control flow v2\n",
      "2.5.0-rc1\n"
     ]
    }
   ],
   "source": [
    "import tensorflow as tf\n",
    "print(tf.__version__)"
   ]
  },
  {
   "cell_type": "code",
   "execution_count": 3,
   "id": "d3e87899",
   "metadata": {},
   "outputs": [
    {
     "name": "stdout",
     "output_type": "stream",
     "text": [
      "tf.Tensor(3, shape=(), dtype=int32)\n"
     ]
    }
   ],
   "source": [
    "a = tf.constant(1)\n",
    "b = tf.constant(2)\n",
    "\n",
    "c = tf.add(a, b)\n",
    "print(c)"
   ]
  },
  {
   "cell_type": "code",
   "execution_count": 5,
   "id": "50483d7e",
   "metadata": {},
   "outputs": [
    {
     "name": "stdout",
     "output_type": "stream",
     "text": [
      "tf.Tensor(36, shape=(), dtype=int32)\n"
     ]
    }
   ],
   "source": [
    "a = tf.constant(2)\n",
    "b = tf.constant(3)\n",
    "c = tf.multiply(a, b)\n",
    "d = tf.pow(c, 2)\n",
    "print(d)"
   ]
  },
  {
   "cell_type": "markdown",
   "id": "bc42926d",
   "metadata": {},
   "source": [
    "<h3>Контрольные вопросы</h3>\n",
    "<ol>\n",
    "    <li>\n",
    "        <h4>Что такое virtualenv?</h4>\n",
    "        <p>virtualenv — это инструмент, позволяющий создавать виртуальные окружения с пакетами. Работая над различными python проектами virtualenv помогает сохранить для каждого проекта набор пакетов с определенными версиями. Без его использования возможен случайный апгрейд пакета, который использует два разных проекта, что может привести к нежелательным ошибкам.</p>\n",
    "    </li>\n",
    "    <li>\n",
    "        <h4>Как запустить Jupyter notebook?</h4>\n",
    "        <p>Для того чтобы запустить Jupyter Notebook требуется в Powershell выполнить команду: jupyter notebook. В результате откроется новая страница в веб-браузере со списком папок и файлов директории из которой был запущен jupyter notebook</p>\n",
    "    </li>\n",
    "    <li>\n",
    "        <h4>Что такое Tensorflow?</h4>\n",
    "        <p>Tensorflow - открытая программная библиотека для машинного обучения, разработанная компанией Google для решения задач построения и тренировки нейронной сети</p>\n",
    "    </li>\n",
    "    <li>\n",
    "        <h4>Что такое переменная в Tensorflow?</h4>\n",
    "        <p>TensorFlow хранит данные в тензорах — многомерных массивах очень похожих на массивы numPy.</p>\n",
    "    </li>\n",
    "</ol>\n"
   ]
  },
  {
   "cell_type": "code",
   "execution_count": null,
   "id": "1d166698",
   "metadata": {},
   "outputs": [],
   "source": []
  }
 ],
 "metadata": {
  "kernelspec": {
   "display_name": "Python 3",
   "language": "python",
   "name": "python3"
  },
  "language_info": {
   "codemirror_mode": {
    "name": "ipython",
    "version": 3
   },
   "file_extension": ".py",
   "mimetype": "text/x-python",
   "name": "python",
   "nbconvert_exporter": "python",
   "pygments_lexer": "ipython3",
   "version": "3.9.5"
  }
 },
 "nbformat": 4,
 "nbformat_minor": 5
}
