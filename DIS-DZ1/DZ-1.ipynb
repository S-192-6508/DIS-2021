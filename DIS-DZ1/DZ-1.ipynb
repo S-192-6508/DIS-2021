{
 "cells": [
  {
   "cell_type": "markdown",
   "id": "84767bd2",
   "metadata": {},
   "source": [
    "<h2>Домашнее задание №1 по курсу \"Проектирование интеллектуальных систем\"</h2>\n",
    "\n",
    "<p><b>Выполнил:</b> Саврасов П.А. группа ИУ5-24М</p>\n",
    "\n",
    "<h3>Задание</h3>\n",
    "<p>Для выполнения домашнего задания требуется подготовить свой собственный датасет для дальнейшего обучения нейронной сети</p>"
   ]
  },
  {
   "cell_type": "code",
   "execution_count": 2,
   "id": "a7e64e71",
   "metadata": {},
   "outputs": [],
   "source": [
    "import re\n",
    "import json\n",
    "import numpy as np\n",
    "import pandas as pd\n",
    "import seaborn as sns\n",
    "import matplotlib.pyplot as plt"
   ]
  },
  {
   "cell_type": "markdown",
   "id": "94706146",
   "metadata": {},
   "source": [
    "Файл data.txt - запись необработанных сообщений IRC чата выполненный специальным клиентом на Qt С++. Сообщения в данном наборе записаны в следующем формате: < Message > Raw content < /Message >. На данном этапе требуется отфильтровать сообщения, при этом учитывая, что сообщения бывают разного типа: сообщения подключения (метка JOIN), сообщения отключения (метка PART), сррбщения управления (метки CLEARCHAT, CLEARMSG)и пользовательские сообщения (метка PRIVMSG). Так же присутствуют сообщения технического характера (метка PING), как напримекр сообщения поддержания соединения. В выборке необходимо оставить только сообщения пользователей и сообщения управления, так как на их основе потом будут определяться класс пользовательских сообщений."
   ]
  },
  {
   "cell_type": "code",
   "execution_count": 2,
   "id": "9de63cc7",
   "metadata": {},
   "outputs": [
    {
     "name": "stdout",
     "output_type": "stream",
     "text": [
      "Записей в исходной выборке:  12787\n",
      "Пользовательских сообщений:  12591\n",
      "Управляющих сообщений:  164\n"
     ]
    }
   ],
   "source": [
    "with open('data.txt', 'r') as file:\n",
    "    data = file.read()\n",
    "data = data.split('</Message>')\n",
    "print('Записей в исходной выборке: ', len(data))\n",
    "controlMsgs = []\n",
    "userMsgs = []\n",
    "for message in data:\n",
    "    if 'CLEARCHAT' in message:\n",
    "        controlMsgs.append(message)\n",
    "    if 'CLEARMSG' in message:\n",
    "        controlMsgs.append(message)\n",
    "    if 'PRIVMSG' in message:\n",
    "        userMsgs.append(message)\n",
    "print('Пользовательских сообщений: ', len(userMsgs))\n",
    "print('Управляющих сообщений: ', len(controlMsgs))"
   ]
  },
  {
   "cell_type": "markdown",
   "id": "23f275b9",
   "metadata": {},
   "source": [
    "Рассмотрим формат пользовательского сообщения:<br>\n",
    "<ul>\n",
    "    <li><b>badge-info=;</b></li>\n",
    "    <li><b>badges=;</b></li>\n",
    "    <li><b>client-nonce=7d0d0ea72a1cc2e687a76c11708ace7d;</b></li>\n",
    "    <li><b>display-name=username;</b> - имя пользователя в чате</li>\n",
    "    <li><b>emotes=;</b></li>\n",
    "    <li><b>flags=0-2:P.5;</b></li>\n",
    "    <li><b>id=7253befd-92c7-4927-8e2c-9106ccc365fa;</b> - идентификатор сообщения</li>\n",
    "    <li><b>mod=0;</b> - флаг модерации</li>\n",
    "    <li><b>room-id=71092938;</b> - идентификатор чата</li>\n",
    "    <li><b>subscriber=0;</b> - флаг подписчика</li>\n",
    "    <li><b>tmi-sent-ts=1624267964499;</b></li>\n",
    "    <li><b>turbo=0;</b></li>\n",
    "    <li><b>user-id=570813914;</b> - идентификатор пользователя</li>\n",
    "    <li><b>user-type= :username!username@username</b> - тип пользователя</li>\n",
    "    <li><b>PRIVMSG #channel_name : message content\\n'</b> - PRIVMSG - метка пользовательского сообщения, #channel_name - назщвание канала,  : message content\\n - контекст сообщения в экранировании : и \\n </li>\n",
    "</ul>\n",
    "\n",
    "Из этих полей необходимыми являются только: display-name, id, user-id, и текст сообщения"
   ]
  },
  {
   "cell_type": "markdown",
   "id": "ea99650f",
   "metadata": {},
   "source": [
    "Теперь рассмотрим сообщение управляющего типа:\n",
    "<ul>\n",
    "    <li><b>ban-duration=100;</b> - время отстранения от чата в секундах. Если отсутсвует, то отстранение без ограничения по времени</li>\n",
    "    <li><b>room-id=71092938;</b> - идентификатор чата</li>\n",
    "    <li><b>target-user-id=169393458;</b> - идентификатор отстраняемого пользователя</li>\n",
    "    <li><b>tmi-sent-ts=1624267964499;</b></li>\n",
    "    <li><b>CLEARCHAT #channel_name : username\\n'</b> - CLEARCHAT - метка уравляющего сообщения, #channel_name - назщвание канала, : username\\n - имя отстраняемого пользователя в экранировании : и \\n </li>\n",
    "</ul>"
   ]
  },
  {
   "cell_type": "markdown",
   "id": "ca804df4",
   "metadata": {},
   "source": [
    "Для разбора сообщений применим классы сообщений, конструкторы которых будут разбирать строку сообщения по полям."
   ]
  },
  {
   "cell_type": "code",
   "execution_count": 3,
   "id": "383f68b6",
   "metadata": {},
   "outputs": [],
   "source": [
    "class UserMessage:\n",
    "    def __init__(self, datastr : str):\n",
    "        datastr.replace('<Message>', '')\n",
    "        fields = datastr.split(';')\n",
    "        for field in fields:\n",
    "            if field.startswith('display-name='):\n",
    "                self.display_name = field.split('=')[1]\n",
    "                \n",
    "            if field.startswith('id='):\n",
    "                self.msg_id = field.split('=')[1]\n",
    "                \n",
    "            if field.startswith('user-id='):\n",
    "                self.user_id = int(field.split('=')[1])\n",
    "                \n",
    "            if field.startswith('tmi-sent-ts='):\n",
    "                self.tmi_sent_ts = int(field.split('=')[1])\n",
    "                \n",
    "        tmp = datastr.split('PRIVMSG #')[1].split(':')[1:]\n",
    "        for substr in tmp:\n",
    "            self.content += substr \n",
    "        self.content = self.content.replace('\\n', '')\n",
    "            \n",
    "    def __str__(self):\n",
    "        return  'name: ' + self.display_name + \\\n",
    "                '\\nuser id: ' + str(self.user_id) + \\\n",
    "                '\\nmsg id: ' + self.msg_id + \\\n",
    "                '\\ntimestamp: ' + str(self.tmi_sent_ts) + \\\n",
    "                '\\ncontent: ' + self.content\n",
    "    \n",
    "    def toDict(self):\n",
    "        return {\n",
    "            'message_id': self.msg_id,\n",
    "            'user_id': self.user_id,\n",
    "            'username': self.display_name,\n",
    "            'timestamp': self.tmi_sent_ts,\n",
    "            'target': self.msg_class,\n",
    "            'content': self.content\n",
    "        }\n",
    "                \n",
    "    display_name = ''\n",
    "    msg_id = ''\n",
    "    user_id = 0 \n",
    "    content = ''\n",
    "    tmi_sent_ts = 0\n",
    "    msg_class = 0"
   ]
  },
  {
   "cell_type": "code",
   "execution_count": 4,
   "id": "fb23170b",
   "metadata": {},
   "outputs": [],
   "source": [
    "userMsgObjects = []\n",
    "\n",
    "for msg in userMsgs:\n",
    "    userMsgObjects.append(UserMessage(msg))"
   ]
  },
  {
   "cell_type": "markdown",
   "id": "4bcd8ef4",
   "metadata": {},
   "source": [
    "Повторим тоже самое для классов управления:"
   ]
  },
  {
   "cell_type": "code",
   "execution_count": 5,
   "id": "8a0547c2",
   "metadata": {},
   "outputs": [],
   "source": [
    "class CtrlMessage:\n",
    "    def __init__(self, datastr : str):\n",
    "        datastr.replace('<Message>', '')\n",
    "        fields = datastr.split(';')\n",
    "        for field in fields:\n",
    "            if field.startswith('@ban_duration='):\n",
    "                self.msg_id = int(field.split('=')[1])\n",
    "            \n",
    "            if field.startswith('target-user-id='):\n",
    "                self.target_user_id = int(field.split('=')[1])\n",
    "                \n",
    "            if field.startswith('tmi-sent-ts='):\n",
    "                self.tmi_sent_ts = int(field.split('=')[1].split(' ')[0])\n",
    "\n",
    "    def __str__(self):\n",
    "        return  'ban duration: ' + str(self.ban_duration) + \\\n",
    "                '\\ntarget user id: ' + str(self.target_user_id) + \\\n",
    "                '\\ntimestamp: ' + str(self.tmi_sent_ts) + '\\n'\n",
    "                \n",
    "    ban_duration = 0\n",
    "    target_user_id = 0\n",
    "    tmi_sent_ts = 0 "
   ]
  },
  {
   "cell_type": "code",
   "execution_count": 6,
   "id": "4783397c",
   "metadata": {},
   "outputs": [],
   "source": [
    "ctrlMsgObjects = []\n",
    "\n",
    "for msg in controlMsgs:\n",
    "    ctrlMsgObjects.append(CtrlMessage(msg))"
   ]
  },
  {
   "cell_type": "markdown",
   "id": "1b6848c7",
   "metadata": {},
   "source": [
    "Теперь на основе сообщений управления необходимо найти те сообщения, которые привели к отстраненияю, то есть найти сообщения с нарушениями. Для этого необходимо связать идентификатор пользователя в обоих клссах и среди его сообщений найти то, что было последним по времени до врмемнной метки в управляющем сообщении"
   ]
  },
  {
   "cell_type": "code",
   "execution_count": 7,
   "id": "ea9be4c9",
   "metadata": {},
   "outputs": [],
   "source": [
    "for ctrMsg in ctrlMsgObjects:\n",
    "    tmp = None\n",
    "    for usrMsg in userMsgObjects:\n",
    "        if(ctrMsg.target_user_id == usrMsg.user_id):\n",
    "            #if(ctrMsg.tmi_sent_ts >= usrMsg.tmi_sent_ts):\n",
    "                tmp = usrMsg\n",
    "    if tmp != None:\n",
    "        tmp.msg_class = 1\n",
    "        "
   ]
  },
  {
   "cell_type": "markdown",
   "id": "efb23065",
   "metadata": {},
   "source": [
    "Однако, этого недостаточно. В наборе управляющих сообщений было всего 164 сообщения, что означает что сообщений с нарушениями всего 164 из 12591, что составляет всего лишь 1,3%. Это связано с тем, что в необработанных данных нет информации от ботов (автоматических систем управления чатами), удаляющих сообщения с циклическим повторением символов. Для поиска таких сообщений воспользуемся функцией поиска циклических повторений. Чувствительность sensitivity устанавливает, какая минимальная часть сообщения должна повториться, чтобы сообщение можно было считать циклически повторяющимся. По умолчанию значение установлено на 05, то есть половину длины."
   ]
  },
  {
   "cell_type": "code",
   "execution_count": 8,
   "id": "4c9b7a8c",
   "metadata": {},
   "outputs": [],
   "source": [
    "def repeatsDetector(content : str, sensitivity = 0.5):\n",
    "    strLen = len(content)\n",
    "    repeatMatrix = np.zeros((strLen, strLen))\n",
    "    \n",
    "    for i in range(strLen):\n",
    "        for j in range(strLen):\n",
    "            if(content[i] == content[j]):\n",
    "                repeatMatrix[i][j] = 1\n",
    "    \n",
    "    repeatsSumm = np.zeros(strLen);\n",
    "    for i in range(strLen):\n",
    "        for j in range(strLen):\n",
    "            if(repeatMatrix[j][(j + i) % strLen]):\n",
    "                repeatsSumm[i] += 1\n",
    "    \n",
    "    repeatsCount = 0\n",
    "    for i in range(strLen):\n",
    "        if(repeatsSumm[i] >= strLen * sensitivity):\n",
    "            repeatsCount += 1\n",
    "    \n",
    "    return repeatsCount"
   ]
  },
  {
   "cell_type": "markdown",
   "id": "9ade47e5",
   "metadata": {},
   "source": [
    "Проверим работу функции на примере сочитаний символов:\n",
    "<ul>\n",
    "    <li>abcdefg - в строке присутствует повторение 1 раз</li>\n",
    "    <li>abcdabc - в строке присутствует повторение 1 раз</li>\n",
    "    <li>abcabcabc - в строке присутствует повторение 3 раза</li>\n",
    "    <li>abcabcab - в строке присутствует повторение 2 раза</li>\n",
    "    <li>aааааааааа - в строке присутствует повторение 10 раз</li>\n",
    "</ul>"
   ]
  },
  {
   "cell_type": "code",
   "execution_count": 9,
   "id": "c4c503cc",
   "metadata": {},
   "outputs": [
    {
     "name": "stdout",
     "output_type": "stream",
     "text": [
      "abcdefg 1\n",
      "abcdabc 1\n",
      "abcabcabc 3\n",
      "abcabcab 3\n",
      "aааааааааа 10\n"
     ]
    }
   ],
   "source": [
    "testVars = ['abcdefg', 'abcdabc', 'abcabcabc', 'abcabcab', 'aааааааааа']\n",
    "for testVar in testVars:\n",
    "    print(testVar, repeatsDetector(testVar))\n"
   ]
  },
  {
   "cell_type": "markdown",
   "id": "7e87db65",
   "metadata": {},
   "source": [
    "Теперь стоит подумать о других пороговых значениях. Сообщение можно не обрабатывать, если его длина менее 10 символов. Так же можно установить порог на число повторений. Пусть допустимое число повторений будет 3. "
   ]
  },
  {
   "cell_type": "code",
   "execution_count": 10,
   "id": "81b2f593",
   "metadata": {},
   "outputs": [],
   "source": [
    "maxRepeats = 3\n",
    "minLength = 10\n",
    "\n",
    "for usrMsg in userMsgObjects:\n",
    "    if(len(usrMsg.content) > 10):\n",
    "        if(repeatsDetector(usrMsg.content) > 3):\n",
    "            usrMsg.msg_class = 1"
   ]
  },
  {
   "cell_type": "markdown",
   "id": "6c5a5d6c",
   "metadata": {},
   "source": [
    "Теперь рассмотрим число сообщений с классом 1:"
   ]
  },
  {
   "cell_type": "code",
   "execution_count": 11,
   "id": "e73f5ecd",
   "metadata": {},
   "outputs": [
    {
     "name": "stdout",
     "output_type": "stream",
     "text": [
      "1319\n"
     ]
    }
   ],
   "source": [
    "c1Count = 0\n",
    "for usrMsg in userMsgObjects:\n",
    "    if (usrMsg.msg_class == 1):\n",
    "        c1Count += 1\n",
    "        \n",
    "print(c1Count)"
   ]
  },
  {
   "cell_type": "markdown",
   "id": "630d870d",
   "metadata": {},
   "source": [
    "Теперь соотношение составляет 1319 из 12591, что уже хотя бы 11%. Теперь нужно подготовить сообщения для дальнейшего использования, записав их в файл в json формате."
   ]
  },
  {
   "cell_type": "code",
   "execution_count": 12,
   "id": "f11752fe",
   "metadata": {},
   "outputs": [],
   "source": [
    "outputDict = {'messages': []}\n",
    "for usrMsg in userMsgObjects:\n",
    "    outputDict['messages'].append(usrMsg.toDict())\n",
    "\n",
    "with open('messages.json', 'w') as file:\n",
    "    json.dump(outputDict, file, ensure_ascii=False)\n"
   ]
  },
  {
   "cell_type": "markdown",
   "id": "5279ab48",
   "metadata": {},
   "source": [
    "Проверим корректность загрузив датасет через библиотеку pandas"
   ]
  },
  {
   "cell_type": "code",
   "execution_count": 3,
   "id": "14f07a53",
   "metadata": {},
   "outputs": [],
   "source": [
    "with open('messages.json', 'r') as file: \n",
    "    data = json.loads(file.read())\n",
    "\n",
    "df = pd.json_normalize(data['messages'])"
   ]
  },
  {
   "cell_type": "code",
   "execution_count": null,
   "id": "4a7450c0",
   "metadata": {},
   "outputs": [],
   "source": []
  }
 ],
 "metadata": {
  "kernelspec": {
   "display_name": "Python 3",
   "language": "python",
   "name": "python3"
  },
  "language_info": {
   "codemirror_mode": {
    "name": "ipython",
    "version": 3
   },
   "file_extension": ".py",
   "mimetype": "text/x-python",
   "name": "python",
   "nbconvert_exporter": "python",
   "pygments_lexer": "ipython3",
   "version": "3.9.5"
  }
 },
 "nbformat": 4,
 "nbformat_minor": 5
}
