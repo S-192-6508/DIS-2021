{
 "cells": [
  {
   "cell_type": "markdown",
   "id": "18e2f260",
   "metadata": {},
   "source": [
    "<h2>Лабораторная работа №5 по курсу \"Проектирование интеллектуальных систем\"</h2>\n",
    "\n",
    "<p><b>Выполнил:</b> Саврасов П.А. группа ИУ5-24М</p>\n",
    "\n",
    "<h3>Задание</h3>\n",
    "<p>На основе приведенного кода нужно выполнить 3 упраженения. Для успешного запуска нужно структурировать код следующим образом:</p>\n",
    "<ol>\n",
    "    <li>Генерация данных (процедуры генерации данных приведены в приложении)</li>\n",
    "    <li>Определение параметров нейросети</li>\n",
    "    <li>Описание графа вычислений</li>\n",
    "    <li>Описание функции потерь и оптимизатора</li>\n",
    "    <li>Обучение и валидация нейронной сети</li>\n",
    "    <li>Визуализация результатов (динамика ошибки на обучающей и тестовой выборке по итерациям и визуализация предсказаний)</li>\n",
    "</ol>\n",
    "<h4>Упражнение 1</h4>\n",
    "В упражнении 1 имеется 2 временных ряда, которые связаны вместе. Это также можно интерпретировать как двумерный временной ряд. Для выполнения упражнения 1 требуется просто собрать код из приведенных частей и запустить его.\n",
    "<h4>Упражнение 2</h4>\n",
    "В упражнении 2 имеется 1 сигнал, который является суперпозицией двух синусоид с разным периодом и смещением. Чтобы получить корректные предсказания, необходимо изменить гиперпараметры нейронной сети.\n",
    "<h4>Упражнение 3</h4>\n",
    "Упражнение 3 аналогично упражнению 2, однако входные данные зашумлены. Здесь также нужно\n",
    "будет настроить гиперпараметры нейронной сети, чтобы получить корректные предсказания.\n"
   ]
  },
  {
   "cell_type": "code",
   "execution_count": 5,
   "id": "fefb01d9",
   "metadata": {},
   "outputs": [],
   "source": [
    "import tensorflow as tf\n",
    "from tensorflow import keras\n",
    "from tensorflow.keras import layers\n",
    "\n",
    "import numpy as np\n",
    "import random\n",
    "import math"
   ]
  },
  {
   "cell_type": "markdown",
   "id": "405f0f1b",
   "metadata": {},
   "source": [
    "Генератор данных для упражнения 1"
   ]
  },
  {
   "cell_type": "code",
   "execution_count": 6,
   "id": "4ea444b1",
   "metadata": {},
   "outputs": [],
   "source": [
    "def generate_x_y_data_v1(isTrain, batch_size):\n",
    "    seq_length = 10\n",
    "    batch_x = []\n",
    "    batch_y = []\n",
    "    for _ in range(batch_size):\n",
    "        rand = random.random() * 2 * math.pi\n",
    "        sig1 = np.sin(np.linspace(0.0 * math.pi + rand, 3.0 * math.pi + rand, seq_length * 2))\n",
    "        sig2 = np.cos(np.linspace(0.0 * math.pi + rand, 3.0 * math.pi + rand, seq_length * 2))\n",
    "        \n",
    "        x1 = sig1[:seq_length]\n",
    "        y1 = sig1[seq_length:]\n",
    "        x2 = sig2[:seq_length]\n",
    "        y2 = sig2[seq_length:]\n",
    "        \n",
    "        x_ = np.array([x1, x2])\n",
    "        y_ = np.array([y1, y2])\n",
    "        x_, y_ = x_.T, y_.T\n",
    "        \n",
    "    batch_x.append(x_)\n",
    "    batch_y.append(y_)\n",
    "    \n",
    "    batch_x = np.array(batch_x)\n",
    "    batch_y = np.array(batch_y)\n",
    "    batch_x = np.array(batch_x).transpose((1, 0, 2))\n",
    "    batch_y = np.array(batch_y).transpose((1, 0, 2))\n",
    "    return batch_x, batch_y"
   ]
  },
  {
   "cell_type": "markdown",
   "id": "95e2863d",
   "metadata": {},
   "source": [
    "Генератор данных для упражнения 2"
   ]
  },
  {
   "cell_type": "code",
   "execution_count": 11,
   "id": "42855537",
   "metadata": {},
   "outputs": [],
   "source": [
    "def generate_x_y_data_v2(isTrain, batch_size, seq_length = 15):\n",
    "    batch_x = []\n",
    "    batch_y = []\n",
    "    for _ in range(batch_size):\n",
    "        offset_rand = random.random() * 2 * math.pi\n",
    "        freq_rand = (random.random() - 0.5) / 1.5 * 15 + 0.5\n",
    "        amp_rand = random.random() + 0.1\n",
    "        sig1 = amp_rand * np.sin(\n",
    "            np.linspace(\n",
    "                seq_length / 15.0 * freq_rand * 0.0 * math.pi + offset_rand,\n",
    "                seq_length / 15.0 * freq_rand * 3.0 * math.pi + offset_rand,\n",
    "                seq_length * 2\n",
    "            )\n",
    "        )\n",
    "        \n",
    "        offset_rand = random.random() * 2 * math.pi\n",
    "        freq_rand = (random.random() - 0.5) / 1.5 * 15 + 0.5\n",
    "        amp_rand = random . random () * 1.2\n",
    "        sig1 = amp_rand * np.cos(\n",
    "            np.linspace(\n",
    "                seq_length / 15.0 * freq_rand * 0.0 * math.pi + offset_rand,\n",
    "                seq_length / 15.0 * freq_rand * 3.0 * math.pi + offset_rand,\n",
    "                seq_length * 2\n",
    "            )\n",
    "        ) + sig1\n",
    "        \n",
    "        x1 = sig1[:seq_length]\n",
    "        y1 = sig1[seq_length:]\n",
    "        x_ = np.array([x1])\n",
    "        y_ = np.array([y1])\n",
    "        x_, y_ = x_.T, y_.T\n",
    "        \n",
    "    batch_x.append(x_)\n",
    "    batch_y.append(y_)\n",
    "    batch_x = np.array(batch_x)\n",
    "    batch_y = np.array(batch_y)\n",
    "    \n",
    "    batch_x = np.array(batch_x).transpose((1, 0, 2))\n",
    "    batch_y = np.array(batch_y).transpose((1, 0, 2))\n",
    "    return batch_x, batch_y\n"
   ]
  },
  {
   "cell_type": "markdown",
   "id": "4ce5cbad",
   "metadata": {},
   "source": [
    "Генератор данных для упражнения 3"
   ]
  },
  {
   "cell_type": "code",
   "execution_count": 19,
   "id": "25940a19",
   "metadata": {},
   "outputs": [],
   "source": [
    "def generate_x_y_data_v3 (isTrain, batch_size):\n",
    "    seq_length = 30\n",
    "    x, y = generate_x_y_data_v2(isTrain, batch_size, seq_length=seq_length )\n",
    "    noise_amount = random.random() * 0.15 + 0.10\n",
    "    x = x + noise_amount * np.random.randn(seq_length, batch_size, 1)\n",
    "    avg = np.average(x)\n",
    "    std = np.std(x) + 0.0001\n",
    "    x = x - avg\n",
    "    y = y - avg\n",
    "    x = x / std / 2.5\n",
    "    y = y / std / 2.5\n",
    "    return x, y"
   ]
  },
  {
   "cell_type": "code",
   "execution_count": null,
   "id": "f7cf110a",
   "metadata": {},
   "outputs": [],
   "source": []
  },
  {
   "cell_type": "code",
   "execution_count": 35,
   "id": "4caa3fc3",
   "metadata": {},
   "outputs": [],
   "source": [
    "xSample, ySample = generate_x_y_data_v1(isTrain =True, batch_size =3)\n",
    "seqLength = xSample.shape[0]\n",
    "batchSize = 5\n",
    "outputDim = inputDim = xSample.shape[-1]\n",
    "hiddenDim = 12\n",
    "layersStackedCount = 2\n",
    "learningRate = 0.007\n",
    "nbIters = 150\n",
    "lrDecay = 0.92\n",
    "momentum = 0.5\n",
    "lambdaL2Reg = 0.003"
   ]
  },
  {
   "cell_type": "code",
   "execution_count": 120,
   "id": "fa1ec192",
   "metadata": {},
   "outputs": [],
   "source": [
    "inpLayer = keras.Input(shape=(None, 1))\n",
    "hidLayer = inpLayer \n",
    "\n",
    "for i in range(layersStackedCount):\n",
    "    hidLayer = layers.GRU(hiddenDim,\n",
    "        return_sequences=True,\n",
    "        activation='relu',\n",
    "        kernel_regularizer=tf.keras.regularizers.L2(l2=lambdaL2Reg)    \n",
    "    )(hidLayer)\n",
    "    \n",
    "outLayer = layers.Dense(1, activation='relu')(hidLayer)\n",
    "model = keras.Model(inputs=inpLayer, outputs=outLayer)"
   ]
  },
  {
   "cell_type": "code",
   "execution_count": 121,
   "id": "5227acca",
   "metadata": {},
   "outputs": [],
   "source": [
    "model.compile(\n",
    "    loss=keras.losses.SparseCategoricalCrossentropy(from_logits=True),\n",
    "    optimizer=keras.optimizers.RMSprop(learning_rate=0.001),\n",
    "    metrics=['mean_squared_error']\n",
    ")"
   ]
  },
  {
   "cell_type": "code",
   "execution_count": 127,
   "id": "7a8e4a70",
   "metadata": {},
   "outputs": [
    {
     "name": "stdout",
     "output_type": "stream",
     "text": [
      "4/4 - 0s - loss: 0.0498 - mean_squared_error: 0.5441\n"
     ]
    }
   ],
   "source": [
    "history = model.fit(sig1[:seq_length], sig1[:seq_length], verbose=2)"
   ]
  },
  {
   "cell_type": "code",
   "execution_count": 128,
   "id": "83a5f75c",
   "metadata": {},
   "outputs": [
    {
     "data": {
      "text/plain": [
       "(10, 1, 2)"
      ]
     },
     "execution_count": 128,
     "metadata": {},
     "output_type": "execute_result"
    }
   ],
   "source": [
    "xSample.shape"
   ]
  },
  {
   "cell_type": "code",
   "execution_count": 112,
   "id": "5f957de8",
   "metadata": {},
   "outputs": [
    {
     "data": {
      "text/plain": [
       "(10, 1, 2)"
      ]
     },
     "execution_count": 112,
     "metadata": {},
     "output_type": "execute_result"
    }
   ],
   "source": [
    "ySample.shape"
   ]
  },
  {
   "cell_type": "code",
   "execution_count": null,
   "id": "c24feaeb",
   "metadata": {},
   "outputs": [],
   "source": []
  },
  {
   "cell_type": "code",
   "execution_count": 55,
   "id": "647a8cd1",
   "metadata": {},
   "outputs": [
    {
     "data": {
      "text/plain": [
       "(2, 10, 1, 2)"
      ]
     },
     "execution_count": 55,
     "metadata": {},
     "output_type": "execute_result"
    }
   ],
   "source": [
    "def generate_x_y_data_v1_1(isTrain, batch_size):\n",
    "    seq_length = 10\n",
    "    batch_x = []\n",
    "    batch_y = []\n",
    "    for _ in range(batch_size):\n",
    "        rand = random.random() * 2 * math.pi\n",
    "        sig1 = np.sin(np.linspace(0.0 * math.pi + rand, 3.0 * math.pi + rand, seq_length * 2))\n",
    "        sig2 = np.cos(np.linspace(0.0 * math.pi + rand, 3.0 * math.pi + rand, seq_length * 2))\n",
    "        \n",
    "        x1 = sig1[:seq_length]\n",
    "        y1 = sig1[seq_length:]\n",
    "        x2 = sig2[:seq_length]\n",
    "        y2 = sig2[seq_length:]\n",
    "        \n",
    "        x_ = np.array([x1, x2])\n",
    "        y_ = np.array([y1, y2])\n",
    "        x_, y_ = x_.T, y_.T\n",
    "        \n",
    "    batch_x.append(x_)\n",
    "    batch_y.append(y_)\n",
    "    \n",
    "    batch_x = np.array(batch_x)\n",
    "    batch_y = np.array(batch_y)\n",
    "    batch_x = np.array(batch_x).transpose((1, 0, 2))\n",
    "    batch_y = np.array(batch_y).transpose((1, 0, 2))\n",
    "    return np.array([batch_x, batch_y])\n",
    "\n",
    "generate_x_y_data_v1_1(True, 10).shape"
   ]
  },
  {
   "cell_type": "code",
   "execution_count": 106,
   "id": "7ad4d5ac",
   "metadata": {},
   "outputs": [
    {
     "data": {
      "text/plain": [
       "<AxesSubplot:>"
      ]
     },
     "execution_count": 106,
     "metadata": {},
     "output_type": "execute_result"
    },
    {
     "data": {
      "image/png": "[encoded data removed]",
      "text/plain": [
       "<Figure size 432x288 with 1 Axes>"
      ]
     },
     "metadata": {
      "needs_background": "light"
     },
     "output_type": "display_data"
    }
   ],
   "source": [
    "seq_length = 100\n",
    "x = []\n",
    "y = []\n",
    "\n",
    "rand = random.random() * 2 * math.pi\n",
    "sig1 = np.sin(np.linspace(0.0 * math.pi + rand, 3.0 * math.pi + rand, seq_length * 2))\n",
    "sig2 = np.cos(np.linspace(0.0 * math.pi + rand, 3.0 * math.pi + rand, seq_length * 2))\n",
    "\n",
    "x1 = sig1[:seq_length]\n",
    "y1 = sig1[seq_length:]\n",
    "x2 = sig2[:seq_length]\n",
    "y2 = sig2[seq_length:]\n",
    "x_ = np.array([x1, x2])\n",
    "y_ = np.array([y1, y2])\n",
    "\n",
    "x_, y_ = x_.T, y_.T\n",
    "x = np.array(x_)\n",
    "y = np.array(y_)\n",
    "    \n",
    "sns.lineplot(x=range(seq_length*2), y=sig1)"
   ]
  },
  {
   "cell_type": "code",
   "execution_count": 87,
   "id": "249a7796",
   "metadata": {},
   "outputs": [
    {
     "data": {
      "text/plain": [
       "array([ 5.92180384,  6.41784478,  6.91388573,  7.40992667,  7.90596762,\n",
       "        8.40200856,  8.89804951,  9.39409045,  9.8901314 , 10.38617234,\n",
       "       10.88221329, 11.37825424, 11.87429518, 12.37033613, 12.86637707,\n",
       "       13.36241802, 13.85845896, 14.35449991, 14.85054085, 15.3465818 ])"
      ]
     },
     "execution_count": 87,
     "metadata": {},
     "output_type": "execute_result"
    }
   ],
   "source": [
    "np.linspace(0.0 * math.pi + rand, 3.0 * math.pi + rand, seq_length * 2)"
   ]
  },
  {
   "cell_type": "code",
   "execution_count": 95,
   "id": "7c34b184",
   "metadata": {},
   "outputs": [
    {
     "data": {
      "text/plain": [
       "0.5120262881569343"
      ]
     },
     "execution_count": 95,
     "metadata": {},
     "output_type": "execute_result"
    }
   ],
   "source": [
    "random.random() * 2 * math.pi # [0 ... 1] * 2 * 3.14 = [0, 6.28]"
   ]
  },
  {
   "cell_type": "code",
   "execution_count": 98,
   "id": "e7889f93",
   "metadata": {},
   "outputs": [
    {
     "data": {
      "text/plain": [
       "array([ 5.92180384,  6.41784478,  6.91388573,  7.40992667,  7.90596762,\n",
       "        8.40200856,  8.89804951,  9.39409045,  9.8901314 , 10.38617234,\n",
       "       10.88221329, 11.37825424, 11.87429518, 12.37033613, 12.86637707,\n",
       "       13.36241802, 13.85845896, 14.35449991, 14.85054085, 15.3465818 ])"
      ]
     },
     "execution_count": 98,
     "metadata": {},
     "output_type": "execute_result"
    }
   ],
   "source": [
    "np.linspace(rand, 3.0 * math.pi + rand, seq_length * 2)"
   ]
  },
  {
   "cell_type": "code",
   "execution_count": 119,
   "id": "cf330c6d",
   "metadata": {},
   "outputs": [
    {
     "name": "stdout",
     "output_type": "stream",
     "text": [
      "{'verbose': 2, 'epochs': 1, 'steps': 4}\n",
      "dict_keys(['loss', 'mean_squared_error'])\n"
     ]
    },
    {
     "data": {
      "text/plain": [
       "[0.03419271856546402]"
      ]
     },
     "execution_count": 119,
     "metadata": {},
     "output_type": "execute_result"
    }
   ],
   "source": [
    "print(history.params)\n",
    "\n",
    "# check the keys of history object\n",
    "print(history.history.keys())\n",
    "history.history['loss']"
   ]
  },
  {
   "cell_type": "code",
   "execution_count": null,
   "id": "490f5fe5",
   "metadata": {},
   "outputs": [],
   "source": []
  }
 ],
 "metadata": {
  "kernelspec": {
   "display_name": "Python 3",
   "language": "python",
   "name": "python3"
  },
  "language_info": {
   "codemirror_mode": {
    "name": "ipython",
    "version": 3
   },
   "file_extension": ".py",
   "mimetype": "text/x-python",
   "name": "python",
   "nbconvert_exporter": "python",
   "pygments_lexer": "ipython3",
   "version": "3.9.5"
  }
 },
 "nbformat": 4,
 "nbformat_minor": 5
}
