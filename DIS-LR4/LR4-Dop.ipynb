{
 "cells": [
  {
   "cell_type": "markdown",
   "id": "f42697c3",
   "metadata": {},
   "source": [
    "<h2>Лабораторная работа №4 (Дополнительная часть) по курсу \"Проектирование интеллектуальных систем\"</h2>\n",
    "\n",
    "<p><b>Выполнил:</b> Саврасов П.А. группа ИУ5-24М</p>\n",
    "\n",
    "<h3>Задание</h3>\n",
    "<p>Модифицировать программный код лабораторной №3 с добавлением сохранения модели и сохранения\n",
    "сводных статистик для визуализации Tensorboard.</p>"
   ]
  },
  {
   "cell_type": "code",
   "execution_count": 1,
   "id": "d3dbd856",
   "metadata": {},
   "outputs": [],
   "source": [
    "import tensorflow as tf\n",
    "from tensorflow import keras\n",
    "from tensorflow.keras import layers\n",
    "from tensorflow.python.keras.datasets import cifar10"
   ]
  },
  {
   "cell_type": "code",
   "execution_count": 49,
   "id": "6b1f8827",
   "metadata": {},
   "outputs": [
    {
     "name": "stdout",
     "output_type": "stream",
     "text": [
      "(50000, 32, 32, 3) (50000, 1)\n",
      "(10000, 32, 32, 3) (10000, 1)\n"
     ]
    }
   ],
   "source": [
    "(xTrain, yTrain), (xTest, yTest) = cifar10.load_data()\n",
    "print(xTrain.shape, yTrain.shape)\n",
    "print(xTest.shape, yTest.shape)"
   ]
  },
  {
   "cell_type": "code",
   "execution_count": 85,
   "id": "f1268f9c",
   "metadata": {},
   "outputs": [],
   "source": [
    "model = keras.Sequential(\n",
    "    [\n",
    "        layers.InputLayer(input_shape=(32, 32, 3)),\n",
    "        layers.Conv2D(32, 3, activation='relu'),\n",
    "        layers.MaxPooling2D(pool_size=(2, 2)),\n",
    "        layers.Conv2D(64, 3, activation='relu'),\n",
    "        layers.MaxPooling2D(pool_size=(2, 2)),\n",
    "        layers.Conv2D(128, 3, activation='relu'),\n",
    "        layers.MaxPooling2D(pool_size=(2, 2)),\n",
    "        layers.Flatten(),\n",
    "        layers.Dense(512, activation='relu'),\n",
    "        layers.Dense(10)\n",
    "    ]\n",
    ")\n",
    "\n",
    "epochsNum = 5\n",
    "optimizer = keras.optimizers.Adam()\n",
    "lossFn = keras.losses.SparseCategoricalCrossentropy(from_logits=True)\n",
    "metricAcc = keras.metrics.SparseCategoricalAccuracy()\n",
    "\n",
    "trainWriter = tf.summary.create_file_writer('log/train/')\n",
    "testWriter = tf.summary.create_file_writer('log/test/')\n",
    "trainStep = testStep = 0\n",
    "batchSize = 100"
   ]
  },
  {
   "cell_type": "markdown",
   "id": "79205ee8",
   "metadata": {},
   "source": [
    "Прежде всего необходимо переписать цикл обучения со встроенного на расширенный"
   ]
  },
  {
   "cell_type": "code",
   "execution_count": 94,
   "id": "c910244d",
   "metadata": {
    "scrolled": true
   },
   "outputs": [
    {
     "name": "stdout",
     "output_type": "stream",
     "text": [
      "Epoch № 0 ------------------------------------\n",
      "Train Accuracy:  tf.Tensor(0.851138, shape=(), dtype=float32)\n",
      "Test Accuracy:  tf.Tensor(0.8295, shape=(), dtype=float32) \n",
      "\n",
      "Epoch № 1 ------------------------------------\n",
      "Train Accuracy:  tf.Tensor(0.86364, shape=(), dtype=float32)\n",
      "Test Accuracy:  tf.Tensor(0.8315, shape=(), dtype=float32) \n",
      "\n",
      "Epoch № 2 ------------------------------------\n",
      "Train Accuracy:  tf.Tensor(0.8719, shape=(), dtype=float32)\n",
      "Test Accuracy:  tf.Tensor(0.849, shape=(), dtype=float32) \n",
      "\n",
      "Epoch № 3 ------------------------------------\n",
      "Train Accuracy:  tf.Tensor(0.87694, shape=(), dtype=float32)\n",
      "Test Accuracy:  tf.Tensor(0.8432, shape=(), dtype=float32) \n",
      "\n",
      "Epoch № 4 ------------------------------------\n",
      "Train Accuracy:  tf.Tensor(0.88502, shape=(), dtype=float32)\n",
      "Test Accuracy:  tf.Tensor(0.835, shape=(), dtype=float32) \n",
      "\n"
     ]
    }
   ],
   "source": [
    "for epoch in range(epochsNum):\n",
    "    print(f'Epoch № {epoch} ------------------------------------')\n",
    "    \n",
    "    # Training loop\n",
    "    for i in range(len(xTrain) // batchSize):\n",
    "        xBatch = xTrain[i * batchSize : (i + 1) * batchSize]\n",
    "        yBatch = yTrain[i * batchSize : (i + 1) * batchSize]\n",
    "        with tf.GradientTape() as tape:\n",
    "            yPred = model(xBatch, training=True)\n",
    "            loss = lossFn(yBatch, yPred)\n",
    "            \n",
    "        gradients = tape.gradient(loss, model.trainable_weights)\n",
    "        optimizer.apply_gradients(zip(gradients, model.trainable_weights))\n",
    "        metricAcc.update_state(yBatch, yPred)\n",
    "    \n",
    "    with trainWriter.as_default():\n",
    "        tf.summary.scalar(\"Loss\", loss, step=epoch)\n",
    "        tf.summary.scalar('Accuracy', metricAcc.result(), step=epoch)\n",
    "    \n",
    "    print('Train Accuracy: ', metricAcc.result())\n",
    "    metricAcc.reset_states()\n",
    "    \n",
    "    # Test loop\n",
    "    for i in range(len(xTest) // batchSize):\n",
    "        xBatch = xTrain[i * batchSize : (i + 1) * batchSize]\n",
    "        yBatch = yTrain[i * batchSize : (i + 1) * batchSize]\n",
    "        yPred = model(xBatch, training=False)\n",
    "        metricAcc.update_state(yBatch, yPred)\n",
    "\n",
    "    with testWriter.as_default():\n",
    "        tf.summary.scalar(\"Loss\", loss, step=epoch)\n",
    "        tf.summary.scalar('Accuracy', metricAcc.result(), step=epoch)\n",
    "\n",
    "            \n",
    "    print('Test Accuracy: ', metricAcc.result(), '\\n')\n",
    "    metricAcc.reset_states()\n",
    "\n",
    "    "
   ]
  }
 ],
 "metadata": {
  "kernelspec": {
   "display_name": "Python 3",
   "language": "python",
   "name": "python3"
  },
  "language_info": {
   "codemirror_mode": {
    "name": "ipython",
    "version": 3
   },
   "file_extension": ".py",
   "mimetype": "text/x-python",
   "name": "python",
   "nbconvert_exporter": "python",
   "pygments_lexer": "ipython3",
   "version": "3.9.5"
  }
 },
 "nbformat": 4,
 "nbformat_minor": 5
}
