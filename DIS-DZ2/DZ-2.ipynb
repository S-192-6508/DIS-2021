{
 "cells": [
  {
   "cell_type": "markdown",
   "id": "2e3f3cde",
   "metadata": {},
   "source": [
    "<h2>Домашнее задание №1 по курсу \"Проектирование интеллектуальных систем\"</h2>\n",
    "\n",
    "<p><b>Выполнил:</b> Саврасов П.А. группа ИУ5-24М</p>\n",
    "\n",
    "<h3>Задание</h3>\n",
    "<p>Для выполнения домашнего задания требуется обучить нейронную сеть на собственном датасете, созданном в домашнем задании №1</p>"
   ]
  },
  {
   "cell_type": "code",
   "execution_count": 2,
   "id": "cb473a3a",
   "metadata": {},
   "outputs": [],
   "source": [
    "import json\n",
    "import pandas as pd\n",
    "import seaborn as sns\n",
    "import matplotlib.pyplot as plt\n",
    "\n",
    "import numpy as np\n",
    "import tensorflow as tf\n",
    "from tensorflow import keras\n",
    "from tensorflow.keras import layers\n",
    "from sklearn.model_selection import train_test_split\n",
    "from sklearn.feature_extraction.text import TfidfVectorizer, CountVectorizer\n",
    "\n",
    "from sklearn.datasets import fetch_20newsgroups"
   ]
  },
  {
   "cell_type": "markdown",
   "id": "3336c6e3",
   "metadata": {},
   "source": [
    "В даненом домашнем задании сравним несколько моделей (MLP, RNN) в задаче классификации текста, так же сравним несколько векторизаторов текста.<br>\n",
    "Для начала загрузим датасет из домашнегно задания 1"
   ]
  },
  {
   "cell_type": "code",
   "execution_count": 3,
   "id": "557a5f99",
   "metadata": {},
   "outputs": [],
   "source": [
    "with open('messages.json', 'r') as file: \n",
    "    data = json.loads(file.read())\n",
    "\n",
    "data = pd.json_normalize(data['messages'])"
   ]
  },
  {
   "cell_type": "markdown",
   "id": "74834904",
   "metadata": {},
   "source": [
    "Для векторизации текстов применим 2 векторизатора: TfidfVectorizer, CountVectorizer"
   ]
  },
  {
   "cell_type": "code",
   "execution_count": 4,
   "id": "ce19c75b",
   "metadata": {},
   "outputs": [],
   "source": [
    "xData = []\n",
    "inputDims = []\n",
    "\n",
    "\n",
    "vectorizer = TfidfVectorizer()\n",
    "xData.append(vectorizer.fit_transform(data['content']).toarray())\n",
    "inputDims.append(len(vectorizer.get_feature_names()))\n",
    "\n",
    "vectorizer = CountVectorizer()\n",
    "xData.append(vectorizer.fit_transform(data['content']).toarray())\n",
    "inputDims.append(len(vectorizer.get_feature_names()))\n"
   ]
  },
  {
   "cell_type": "code",
   "execution_count": 5,
   "id": "26c9a92e",
   "metadata": {},
   "outputs": [],
   "source": [
    "models = []\n",
    "for inputDim in inputDims:\n",
    "    \n",
    "    model = tf.keras.Sequential(\n",
    "        [\n",
    "            layers.InputLayer(input_shape=(inputDim)),\n",
    "            layers.Dense(300, activation='relu'),\n",
    "            layers.Dense(200, activation='relu'),\n",
    "            layers.Dense(100, activation='relu'),\n",
    "            layers.Dense(2, activation='relu')\n",
    "        ]\n",
    "    )\n",
    "    models.append(model)\n",
    "    \n",
    "    "
   ]
  },
  {
   "cell_type": "code",
   "execution_count": 6,
   "id": "847832c0",
   "metadata": {},
   "outputs": [],
   "source": [
    "for model in models:\n",
    "    model.compile (\n",
    "        loss=keras.losses.SparseCategoricalCrossentropy(from_logits=True),\n",
    "        optimizer=keras.optimizers.Adam(),\n",
    "        metrics=['accuracy']\n",
    "    )\n"
   ]
  },
  {
   "cell_type": "code",
   "execution_count": 7,
   "id": "cbacf838",
   "metadata": {},
   "outputs": [
    {
     "name": "stdout",
     "output_type": "stream",
     "text": [
      "\n",
      "\n",
      "Model 1---------------\n",
      "Epoch 1/10\n",
      "276/276 - 2s - loss: 0.3191 - accuracy: 0.8924\n",
      "Epoch 2/10\n",
      "276/276 - 1s - loss: 0.2301 - accuracy: 0.9081\n",
      "Epoch 3/10\n",
      "276/276 - 1s - loss: 0.1811 - accuracy: 0.9285\n",
      "Epoch 4/10\n",
      "276/276 - 1s - loss: 0.1550 - accuracy: 0.9412\n",
      "Epoch 5/10\n",
      "276/276 - 1s - loss: 0.1382 - accuracy: 0.9463\n",
      "Epoch 6/10\n",
      "276/276 - 1s - loss: 0.1282 - accuracy: 0.9512\n",
      "Epoch 7/10\n",
      "276/276 - 1s - loss: 0.1205 - accuracy: 0.9513\n",
      "Epoch 8/10\n",
      "276/276 - 1s - loss: 0.1150 - accuracy: 0.9542\n",
      "Epoch 9/10\n",
      "276/276 - 1s - loss: 0.1132 - accuracy: 0.9540\n",
      "Epoch 10/10\n",
      "276/276 - 1s - loss: 0.1122 - accuracy: 0.9538\n",
      "119/119 - 0s - loss: 0.3732 - accuracy: 0.9124\n",
      "\n",
      "\n",
      "Model 2---------------\n",
      "Epoch 1/10\n",
      "276/276 - 2s - loss: 0.1794 - accuracy: 0.9589\n",
      "Epoch 2/10\n",
      "276/276 - 2s - loss: 0.0854 - accuracy: 0.9761\n",
      "Epoch 3/10\n",
      "276/276 - 2s - loss: 0.0723 - accuracy: 0.9764\n",
      "Epoch 4/10\n",
      "276/276 - 2s - loss: 0.0483 - accuracy: 0.9790\n",
      "Epoch 5/10\n",
      "276/276 - 2s - loss: 0.0443 - accuracy: 0.9784\n",
      "Epoch 6/10\n",
      "276/276 - 2s - loss: 0.0433 - accuracy: 0.9787\n",
      "Epoch 7/10\n",
      "276/276 - 2s - loss: 0.0414 - accuracy: 0.9799\n",
      "Epoch 8/10\n",
      "276/276 - 2s - loss: 0.0403 - accuracy: 0.9798\n",
      "Epoch 9/10\n",
      "276/276 - 2s - loss: 0.0375 - accuracy: 0.9800\n",
      "Epoch 10/10\n",
      "276/276 - 2s - loss: 0.0370 - accuracy: 0.9800\n",
      "119/119 - 0s - loss: 0.1324 - accuracy: 0.9725\n"
     ]
    }
   ],
   "source": [
    "xTrain = []\n",
    "xTest = []\n",
    "yTrain = []\n",
    "yTest = []\n",
    "\n",
    "\n",
    "for x in xData:\n",
    "    x_train, x_test, y_train, y_test = train_test_split(x, data['target'], test_size=0.3, random_state=42)\n",
    "    xTrain.append(x_train)\n",
    "    xTest.append(x_test)\n",
    "    yTrain.append(y_train)\n",
    "    yTest.append(y_test)\n",
    "\n",
    "historys = [] \n",
    "    \n",
    "for i in range(2):\n",
    "    print(f'\\n\\nModel {i + 1}---------------')\n",
    "    historys.append(models[i].fit(xTrain[i], yTrain[i],epochs=10, verbose=2))\n",
    "    models[i].evaluate(xTest[i], yTest[i], verbose=2)\n",
    "        "
   ]
  },
  {
   "cell_type": "code",
   "execution_count": 8,
   "id": "9689a8b2",
   "metadata": {},
   "outputs": [
    {
     "data": {
      "image/png": "[encoded data removed]",
      "text/plain": [
       "<Figure size 720x720 with 2 Axes>"
      ]
     },
     "metadata": {
      "needs_background": "light"
     },
     "output_type": "display_data"
    }
   ],
   "source": [
    "fig, ax = plt.subplots(figsize=(10,10))\n",
    "plt.subplot(2, 1, 1)\n",
    "plt.plot(historys[0].epoch, historys[0].history['accuracy'], '-o')\n",
    "plt.plot(historys[1].epoch, historys[1].history['accuracy'], '-o')\n",
    "\n",
    "plt.subplot(2, 1, 2)\n",
    "plt.plot(historys[0].epoch, historys[0].history['loss'], '-o')\n",
    "plt.plot(historys[1].epoch, historys[1].history['loss'], '-o')\n",
    "\n",
    "plt.show()"
   ]
  },
  {
   "cell_type": "code",
   "execution_count": null,
   "id": "0bca7e79",
   "metadata": {},
   "outputs": [],
   "source": []
  },
  {
   "cell_type": "code",
   "execution_count": null,
   "id": "8670b055",
   "metadata": {},
   "outputs": [],
   "source": []
  },
  {
   "cell_type": "code",
   "execution_count": null,
   "id": "9f06457e",
   "metadata": {},
   "outputs": [],
   "source": []
  }
 ],
 "metadata": {
  "kernelspec": {
   "display_name": "Python 3",
   "language": "python",
   "name": "python3"
  },
  "language_info": {
   "codemirror_mode": {
    "name": "ipython",
    "version": 3
   },
   "file_extension": ".py",
   "mimetype": "text/x-python",
   "name": "python",
   "nbconvert_exporter": "python",
   "pygments_lexer": "ipython3",
   "version": "3.9.5"
  }
 },
 "nbformat": 4,
 "nbformat_minor": 5
}
