{
 "cells": [
  {
   "cell_type": "markdown",
   "id": "8c718286",
   "metadata": {},
   "source": [
    "<h2>Лабораторная работа №4 по курсу \"Проектирование интеллектуальных систем\"</h2>\n",
    "\n",
    "<p><b>Выполнил:</b> Саврасов П.А. группа ИУ5-24М</p>\n",
    "\n",
    "<h3>Задание</h3>\n",
    "<p>Модифицировать программный код лабораторной №3 с добавлением сохранения модели и сохранения\n",
    "сводных статистик для визуализации Tensorboard.</p>\n",
    "<p>Написать дополнительный код, который покажет демонстрацию восстановления модели из файла с\n",
    "расширением .ckpt.</p>"
   ]
  },
  {
   "cell_type": "code",
   "execution_count": 2,
   "id": "b7adbbcb",
   "metadata": {},
   "outputs": [],
   "source": [
    "import tensorflow as tf\n",
    "from tensorflow import keras\n",
    "from tensorflow.keras import layers\n",
    "from tensorflow.python.keras.datasets import cifar10"
   ]
  },
  {
   "cell_type": "code",
   "execution_count": 3,
   "id": "6b9bc589",
   "metadata": {},
   "outputs": [
    {
     "name": "stdout",
     "output_type": "stream",
     "text": [
      "(50000, 32, 32, 3) (50000, 1)\n",
      "(10000, 32, 32, 3) (10000, 1)\n"
     ]
    }
   ],
   "source": [
    "(xTrain, yTrain), (xTest, yTest) = cifar10.load_data()\n",
    "print(xTrain.shape, yTrain.shape)\n",
    "print(xTest.shape, yTest.shape)"
   ]
  },
  {
   "cell_type": "code",
   "execution_count": 4,
   "id": "5a892406",
   "metadata": {
    "scrolled": false
   },
   "outputs": [],
   "source": [
    "model = keras.Sequential(\n",
    "    [\n",
    "        layers.InputLayer(input_shape=(32, 32, 3)),\n",
    "        layers.Conv2D(32, 3, activation='relu'),\n",
    "        layers.MaxPooling2D(pool_size=(2, 2)),\n",
    "        layers.Conv2D(64, 3, activation='relu'),\n",
    "        layers.MaxPooling2D(pool_size=(2, 2)),\n",
    "        layers.Conv2D(128, 3, activation='relu'),\n",
    "        layers.MaxPooling2D(pool_size=(2, 2)),\n",
    "        layers.Flatten(),\n",
    "        layers.Dense(512, activation='relu'),\n",
    "        layers.Dropout(0.5),\n",
    "        layers.Dense(10)\n",
    "    ]\n",
    ")\n",
    "model.compile(\n",
    "    loss = keras.losses.SparseCategoricalCrossentropy(from_logits = True),\n",
    "    optimizer = keras.optimizers.Adam(learning_rate = 0.001),\n",
    "    metrics = ['accuracy']\n",
    ")"
   ]
  },
  {
   "cell_type": "code",
   "execution_count": 5,
   "id": "1e9df623",
   "metadata": {},
   "outputs": [],
   "source": [
    "tensorboardCallback = keras.callbacks.TensorBoard(\n",
    "    log_dir='tbCallbaclk',\n",
    "    histogram_freq=1\n",
    ")"
   ]
  },
  {
   "cell_type": "code",
   "execution_count": 6,
   "id": "aa0dffca",
   "metadata": {},
   "outputs": [
    {
     "name": "stdout",
     "output_type": "stream",
     "text": [
      "Epoch 1/10\n",
      "391/391 [==============================] - 14s 34ms/step - loss: 2.0077 - accuracy: 0.3553\n",
      "Epoch 2/10\n",
      "391/391 [==============================] - 13s 33ms/step - loss: 1.4027 - accuracy: 0.4954\n",
      "Epoch 3/10\n",
      "391/391 [==============================] - 13s 34ms/step - loss: 1.2560 - accuracy: 0.5550\n",
      "Epoch 4/10\n",
      "391/391 [==============================] - 13s 34ms/step - loss: 1.1535 - accuracy: 0.5925\n",
      "Epoch 5/10\n",
      "391/391 [==============================] - 13s 33ms/step - loss: 1.0646 - accuracy: 0.6255\n",
      "Epoch 6/10\n",
      "391/391 [==============================] - 13s 33ms/step - loss: 0.9929 - accuracy: 0.6496\n",
      "Epoch 7/10\n",
      "391/391 [==============================] - 13s 33ms/step - loss: 0.9437 - accuracy: 0.6684\n",
      "Epoch 8/10\n",
      "391/391 [==============================] - 13s 33ms/step - loss: 0.8798 - accuracy: 0.6925\n",
      "Epoch 9/10\n",
      "391/391 [==============================] - 13s 34ms/step - loss: 0.8410 - accuracy: 0.7053\n",
      "Epoch 10/10\n",
      "391/391 [==============================] - 13s 33ms/step - loss: 0.8007 - accuracy: 0.7188\n",
      "79/79 - 1s - loss: 0.9404 - accuracy: 0.6812\n"
     ]
    },
    {
     "data": {
      "text/plain": [
       "[0.9404182434082031, 0.6812000274658203]"
      ]
     },
     "execution_count": 6,
     "metadata": {},
     "output_type": "execute_result"
    }
   ],
   "source": [
    "model.fit(\n",
    "    xTrain, \n",
    "    yTrain, \n",
    "    batch_size=128, \n",
    "    epochs=10, \n",
    "    verbose=1,\n",
    "    callbacks=[tensorboardCallback]\n",
    ")\n",
    "model.evaluate(xTest, yTest, batch_size=128, verbose=2)"
   ]
  },
  {
   "cell_type": "markdown",
   "id": "be122ff6",
   "metadata": {},
   "source": [
    "# Сохранение и загрузка весов"
   ]
  },
  {
   "cell_type": "code",
   "execution_count": 4,
   "id": "7419d899",
   "metadata": {},
   "outputs": [],
   "source": [
    "model.save_weights('modelFolder/')"
   ]
  },
  {
   "cell_type": "code",
   "execution_count": 5,
   "id": "09716982",
   "metadata": {},
   "outputs": [
    {
     "name": "stdout",
     "output_type": "stream",
     "text": [
      "79/79 - 1s - loss: 1.1108 - accuracy: 0.6670\n"
     ]
    },
    {
     "data": {
      "text/plain": [
       "[1.110833764076233, 0.6669999957084656]"
      ]
     },
     "execution_count": 5,
     "metadata": {},
     "output_type": "execute_result"
    }
   ],
   "source": [
    "model.load_weights('modelFolder/')\n",
    "model.evaluate(xTest, yTest, batch_size=128, verbose=2)"
   ]
  },
  {
   "cell_type": "markdown",
   "id": "7ea763c8",
   "metadata": {},
   "source": [
    "# Сохранение и загрузка модели целиком"
   ]
  },
  {
   "cell_type": "code",
   "execution_count": 6,
   "id": "705fefdc",
   "metadata": {},
   "outputs": [
    {
     "name": "stdout",
     "output_type": "stream",
     "text": [
      "INFO:tensorflow:Assets written to: fullModelFolder/assets\n"
     ]
    }
   ],
   "source": [
    "model.save('fullModelFolder/')"
   ]
  },
  {
   "cell_type": "code",
   "execution_count": 15,
   "id": "88308e17",
   "metadata": {},
   "outputs": [
    {
     "name": "stdout",
     "output_type": "stream",
     "text": [
      "79/79 - 1s - loss: 1.1108 - accuracy: 0.6670\n"
     ]
    },
    {
     "data": {
      "text/plain": [
       "[1.110833764076233, 0.6669999957084656]"
      ]
     },
     "execution_count": 15,
     "metadata": {},
     "output_type": "execute_result"
    }
   ],
   "source": [
    "model2 = keras.models.load_model('fullModelFolder/')\n",
    "model2.evaluate(xTest, yTest, batch_size=128, verbose=2)"
   ]
  },
  {
   "cell_type": "markdown",
   "id": "4ea25bae",
   "metadata": {},
   "source": [
    "Используемая в этом примере модель не подходит для более детального описания системы. Требуется переписать модель, добавив в неё кастомный обучающий цикл. Такой вариант будет разоброан в лополнительной части к этой лабораторной"
   ]
  },
  {
   "cell_type": "markdown",
   "id": "9ece798b",
   "metadata": {},
   "source": [
    "<h3>Контрольные вопросы</h3>\n",
    "<ol>\n",
    "    <li>\n",
    "        <h4>Как включить TensorBoard?</h4>\n",
    "        <p>При помощи TensorBoard просматривать результаты можно и во время обучения. Для этого в терминале необходимо запустить команду: tensorboard −−logdir=path/to/log−directory</p>\n",
    "    </li>\n",
    "    <li>\n",
    "        <h4>Как сбросить граф?</h4>\n",
    "        <p>С помощью  команды tf.reset_default_graph().</p>\n",
    "    </li>\n",
    "    <li>\n",
    "        <h4>Зачем нужны коллекции?</h4>\n",
    "        <p>Коллекция - это объект, в котором мы храним элементы узлов графа.</p>\n",
    "    </li>\n",
    "    <li>\n",
    "        <h4>Перечислите команды для добавления переменных в сводную статистику.</h4>\n",
    "        <ul>\n",
    "            <li>tf.summary.scalars()</li>\n",
    "            <li>tf.summary.histogram()</li>\n",
    "            <li>tf.summary.merge_all()</li>\n",
    "        </ul>\n",
    "    </li>\n",
    "</ol>"
   ]
  },
  {
   "cell_type": "code",
   "execution_count": null,
   "id": "dbb3ce31",
   "metadata": {},
   "outputs": [],
   "source": []
  }
 ],
 "metadata": {
  "kernelspec": {
   "display_name": "Python 3",
   "language": "python",
   "name": "python3"
  },
  "language_info": {
   "codemirror_mode": {
    "name": "ipython",
    "version": 3
   },
   "file_extension": ".py",
   "mimetype": "text/x-python",
   "name": "python",
   "nbconvert_exporter": "python",
   "pygments_lexer": "ipython3",
   "version": "3.9.5"
  }
 },
 "nbformat": 4,
 "nbformat_minor": 5
}
