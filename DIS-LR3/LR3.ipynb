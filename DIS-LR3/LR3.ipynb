{
 "cells": [
  {
   "cell_type": "markdown",
   "id": "f33b9f68",
   "metadata": {},
   "source": [
    "<h2>Лабораторная работа №3 по курсу \"Проектирование интеллектуальных систем\"</h2>\n",
    "\n",
    "<p><b>Выполнил:</b> Саврасов П.А. группа ИУ5-24М</p>\n",
    "\n",
    "<h3>Задание</h3>\n",
    "    <p>Обучить нейронную сеть на наборе данных CIFAR10. Точность модели должна достигать 70%. Сеть\n",
    "должна состоять из трех сверточных слоев и полносвязной сети.</p>"
   ]
  },
  {
   "cell_type": "code",
   "execution_count": 74,
   "id": "334331da",
   "metadata": {},
   "outputs": [],
   "source": [
    "import tensorflow as tf\n",
    "from tensorflow import keras\n",
    "from tensorflow.keras import layers\n",
    "from tensorflow.python.keras.datasets import cifar10\n",
    "\n",
    "import seaborn as sns"
   ]
  },
  {
   "cell_type": "code",
   "execution_count": 75,
   "id": "cbdc47b4",
   "metadata": {},
   "outputs": [
    {
     "name": "stdout",
     "output_type": "stream",
     "text": [
      "(50000, 32, 32, 3) (50000, 1)\n",
      "(10000, 32, 32, 3) (10000, 1)\n"
     ]
    }
   ],
   "source": [
    "(xTrain, yTrain), (xTest, yTest) = cifar10.load_data()\n",
    "print(xTrain.shape, yTrain.shape)\n",
    "print(xTest.shape, yTest.shape)"
   ]
  },
  {
   "cell_type": "markdown",
   "id": "50941bdd",
   "metadata": {},
   "source": [
    "Формат датасета имеет следующий формат:<br>\n",
    "50000 образцов 32 на 32 пикселя, каждый пиксель зашифорван RGB кодом<br>\n",
    "Для применения его как обучающей выборки необходимо сначала отмасштабировать данные"
   ]
  },
  {
   "cell_type": "code",
   "execution_count": 76,
   "id": "8fd29ea6",
   "metadata": {},
   "outputs": [],
   "source": [
    "xTrain = xTrain.astype('float32') / 255\n",
    "xTest = xTest.astype('float32') / 255"
   ]
  },
  {
   "cell_type": "markdown",
   "id": "5bb7467a",
   "metadata": {},
   "source": [
    "Создадим нейросеть со следующей архитектурой:\n",
    "<ul>\n",
    "    <li>Входной слой: 32 x 32 x 3</li>\n",
    "    <li>Свёрточный слой 1</li>\n",
    "    <li>Свёрточный слой 2</li>\n",
    "    <li>Свёрточный слой 3</li>\n",
    "    <li>Полносвязный слой: 10</li>\n",
    "</ul>"
   ]
  },
  {
   "cell_type": "code",
   "execution_count": 102,
   "id": "77958ce4",
   "metadata": {},
   "outputs": [],
   "source": [
    "model = keras.Sequential(\n",
    "    [\n",
    "        layers.InputLayer(input_shape=(32, 32, 3)),\n",
    "        layers.Conv2D(32, 3, activation='relu'),\n",
    "        layers.MaxPooling2D(pool_size=(2, 2)),\n",
    "        layers.Conv2D(64, 3, activation='relu'),\n",
    "        layers.MaxPooling2D(pool_size=(2, 2)),\n",
    "        layers.Conv2D(128, 3, activation='relu'),\n",
    "        layers.MaxPooling2D(pool_size=(2, 2)),\n",
    "        layers.Flatten(),\n",
    "        layers.Dense(512, activation='relu'),\n",
    "        layers.Dropout(0.5),\n",
    "        layers.Dense(10)\n",
    "    ]\n",
    ")"
   ]
  },
  {
   "cell_type": "code",
   "execution_count": 103,
   "id": "6cf320c4",
   "metadata": {},
   "outputs": [],
   "source": [
    "model.compile(\n",
    "    loss = keras.losses.SparseCategoricalCrossentropy(from_logits = True),\n",
    "    optimizer = keras.optimizers.Adam(learning_rate = 0.001),\n",
    "    metrics = ['accuracy']\n",
    ")"
   ]
  },
  {
   "cell_type": "code",
   "execution_count": 104,
   "id": "96381629",
   "metadata": {},
   "outputs": [
    {
     "name": "stdout",
     "output_type": "stream",
     "text": [
      "Epoch 1/10\n",
      "391/391 [==============================] - 13s 33ms/step - loss: 1.8170 - accuracy: 0.3307\n",
      "Epoch 2/10\n",
      "391/391 [==============================] - 13s 33ms/step - loss: 1.2392 - accuracy: 0.5580\n",
      "Epoch 3/10\n",
      "391/391 [==============================] - 13s 33ms/step - loss: 1.0465 - accuracy: 0.6343\n",
      "Epoch 4/10\n",
      "391/391 [==============================] - 13s 33ms/step - loss: 0.9405 - accuracy: 0.6710\n",
      "Epoch 5/10\n",
      "391/391 [==============================] - 13s 34ms/step - loss: 0.8349 - accuracy: 0.7091\n",
      "Epoch 6/10\n",
      "391/391 [==============================] - 13s 34ms/step - loss: 0.7593 - accuracy: 0.7328\n",
      "Epoch 7/10\n",
      "391/391 [==============================] - 13s 33ms/step - loss: 0.7015 - accuracy: 0.7556\n",
      "Epoch 8/10\n",
      "391/391 [==============================] - 13s 33ms/step - loss: 0.6494 - accuracy: 0.7735\n",
      "Epoch 9/10\n",
      "391/391 [==============================] - 13s 34ms/step - loss: 0.5823 - accuracy: 0.7955\n",
      "Epoch 10/10\n",
      "391/391 [==============================] - 13s 34ms/step - loss: 0.5286 - accuracy: 0.8118\n",
      "79/79 - 1s - loss: 0.8111 - accuracy: 0.7304\n"
     ]
    },
    {
     "data": {
      "text/plain": [
       "[0.811121940612793, 0.730400025844574]"
      ]
     },
     "execution_count": 104,
     "metadata": {},
     "output_type": "execute_result"
    }
   ],
   "source": [
    "history = model.fit(xTrain, yTrain, batch_size=128, epochs=10, verbose=1)\n",
    "model.evaluate(xTest, yTest, batch_size=128, verbose=2)"
   ]
  },
  {
   "cell_type": "code",
   "execution_count": 105,
   "id": "c90be1b8",
   "metadata": {},
   "outputs": [
    {
     "data": {
      "text/plain": [
       "<AxesSubplot:xlabel='Epoch', ylabel='Accuracy'>"
      ]
     },
     "execution_count": 105,
     "metadata": {},
     "output_type": "execute_result"
    },
    {
     "data": {
      "image/png": "[encoded data removed]",
      "text/plain": [
       "<Figure size 432x288 with 1 Axes>"
      ]
     },
     "metadata": {},
     "output_type": "display_data"
    }
   ],
   "source": [
    "historyData = {}\n",
    "historyData['Accuracy'] = history.history['accuracy']\n",
    "historyData['Epoch'] = list(range(1, history.params['epochs'] + 1))\n",
    "sns.lineplot(x=\"Epoch\", y=\"Accuracy\",\n",
    "             data=historyData)"
   ]
  },
  {
   "cell_type": "markdown",
   "id": "140a2f04",
   "metadata": {},
   "source": [
    "<h3>Контрольные вопросы</h3>\n",
    "<ol>\n",
    "    <li>\n",
    "        <h4>Что такое свертка?</h4>\n",
    "        <p>Вы можете представить себе свёртку как «смешивание» информации. Представьте два ведра, наполненных какой-либо информацией, которые выливаются в один большой контейнер и затем перемешиваются определённым способом. Каждое ведро с информацией имеет своё собственное правило, которое описывает, как информация из одного ведра смешивается с другим. Свёртка — это упорядоченная процедура смешивания двух источников информации. Свёртку можно описать математически. Это такая же операция, как сложение, умножение или взятие производной. Хотя сама по себе операция свёртки сложна, она может быть очень полезна для упрощения ещё более сложных выражений.</p>\n",
    "    </li>\n",
    "    <li>\n",
    "        <h4>Напишите математическую операцию свертки</h4>\n",
    "        <p>Свёртка функций — операция в функциональном анализе, которая при применении к двум функциям f и g, возвращает третью функцию, соответствующую взаимнокорреляционной функции f(x) и g(-x). Операцию свертки можно интерпретировать как «схожесть» одной функции с отражённой и сдвинутой копией другой. Понятие свёртки обобщается для функций, определённых на произвольных измеримых пространствах и может рассматриваться как особый вид интегрального преобразования. В дискретном случае свёртка соответствует сумме значений f с коэффициентами, соответствующими смещённым значениям g, то есть (f*g)(x) = f(1)g(x-1) + f(2)g(x-2) + f(3)g(x-3) + ... </p>\n",
    "    </li>\n",
    "    <li>\n",
    "        <h4>Какие свойства сверточного слоя?</h4>\n",
    "        <p>В сверточных слоях каждый элемент связан с определенным количеством элементов в предыдущем слое. Обычно количество элементов варьируется от 1 до 9 элементов. При этом, значения весов между нейронами разделяются, т.е. значения весов i-го нейрона равны значениям весов i + 1 нейрона. Данное свойство значительно уменьшает требования к объему памяти.</p>\n",
    "    </li>\n",
    "    <li>\n",
    "        <h4>Сколько этапов в сверточном слое? Какие?</h4>\n",
    "        <p>Три этапа: (Применение фильтра, Применение нелинейности, Применение операции дискретитизации (pooling).</p>\n",
    "    </li>\n",
    "    <li>\n",
    "        <h4>Что такое регуляризация? Зачем она нужна?</h4>\n",
    "        <p>Регуляризация это — метод добавления некоторых дополнительных ограничений к условию с целью решить неправильно поставленную задачу. В машинном обучении и статистике регуляризация в основном используется для обозначения ограничения оптимизации путем наложения штрафа на сложность решения в попытке предотвратить переобучение на обучающей выборке. Регуляризация чаще всего применяется путем добавления неявной информации о желаемом результате.</p>\n",
    "    </li>\n",
    "    <li>\n",
    "        <h4>Какой вид регуляризации использовался в лабораторной?</h4>\n",
    "        <p>Dropout. - отключает один из нейронов в слое.Добавить слой dropout в TensorFlow можно с помощью команды: tf.keras.layers.Dropout(rate), где rate - вероятность работы нейрона в слое.</p>\n",
    "    </li>   \n",
    "</ol>"
   ]
  },
  {
   "cell_type": "code",
   "execution_count": null,
   "id": "2a0b9aac",
   "metadata": {},
   "outputs": [],
   "source": []
  }
 ],
 "metadata": {
  "kernelspec": {
   "display_name": "Python 3",
   "language": "python",
   "name": "python3"
  },
  "language_info": {
   "codemirror_mode": {
    "name": "ipython",
    "version": 3
   },
   "file_extension": ".py",
   "mimetype": "text/x-python",
   "name": "python",
   "nbconvert_exporter": "python",
   "pygments_lexer": "ipython3",
   "version": "3.9.5"
  }
 },
 "nbformat": 4,
 "nbformat_minor": 5
}
